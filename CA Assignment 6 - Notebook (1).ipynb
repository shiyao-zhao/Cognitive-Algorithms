{
 "cells": [
  {
   "cell_type": "markdown",
   "metadata": {},
   "source": [
    "# Cognitive Algorithms - Assignment 6 (30 points)\n",
    "Cognitive Algorithms        \n",
    "Summer Term 2019      \n",
    "Technische Universität Berlin     \n",
    "Fachgebiet Maschinelles Lernen \n",
    "\n",
    "**Answer the questions on Isis in 'Assignment 6 - Quiz' and copy code from this notebook where necessary**\n",
    "                                  \n",
    "           "
   ]
  },
  {
   "cell_type": "markdown",
   "metadata": {},
   "source": [
    "## Programming \n",
    "---\n",
    "Like in the first assignment you aim to recognize handwritten digits. This time you will not train a linear perceptron, but a non-linear multilayer perceptron (MLP). You won’t have to implement it – we will use existing code and modify it slightly. We are using the ```scikit-learn``` implementation, that can be found here:            \n",
    "http://scikit-learn.org/stable/modules/neural_networks_supervised.html            \n",
    "You might have to install ```scikit-learn``` beforehand. Follow the instructions on their webpage to do so.                   \n",
    "This time we will use the full MNIST Data set. Download the MNIST data set from ISIS if not done yet.                        \n",
    "\n",
    "Below you find the code to load the MNIST dataset."
   ]
  },
  {
   "cell_type": "markdown",
   "metadata": {},
   "source": [
    "## Task 1 Training a MLP with Hyperparameter Optimization:\n",
    "---\n",
    "- Instantiate a MLPClassifier from sklearn.\n",
    "    - Set its learning_rate to 'adaptive'\n",
    "    - Set its random_state to 1\n",
    "- Instatiate a GridSearchCV from sklearn:\n",
    "    - Set it to 5 cv folds\n",
    "    - Set the Parameters to try out during Gridsearch: hidden_layer_sizes [(256,), (512,), (128 ,256, 128,)]\n",
    "    - Hint: you can enable mutliprocessing by n_jobs=-1"
   ]
  },
  {
   "cell_type": "code",
   "execution_count": null,
   "metadata": {},
   "outputs": [],
   "source": [
    "import numpy as np\n",
    "from scipy.ndimage import convolve\n",
    "from sklearn.neural_network import MLPClassifier\n",
    "from sklearn.datasets import fetch_mldata\n",
    "from sklearn.model_selection import train_test_split, cross_val_score, GridSearchCV\n",
    "import joblib\n",
    "import os.path\n",
    "import scipy as sp\n",
    "import pylab as pl\n",
    "%matplotlib inline"
   ]
  },
  {
   "cell_type": "code",
   "execution_count": null,
   "metadata": {},
   "outputs": [],
   "source": [
    "PATH = 'mlp_model.pkl'\n",
    "\n",
    "import scipy.io\n",
    "mnist = scipy.io.loadmat('mnist-original.mat')\n",
    "X, y = mnist['data'], mnist['label']\n",
    "X_train, X_test, y_train, y_test = train_test_split(X.T/255.,y[0,:],test_size=0.25, random_state=0)\n",
    "\n",
    "print('Got MNIST with %d training- and %d test samples' % (len(y_train), len(y_test)))\n",
    "print('Digit distribution in whole dataset:', np.bincount(y[0,:].astype('int64')))\n",
    "\n",
    "clf = None\n",
    "if os.path.exists(PATH):\n",
    "    print('Loading model from file.')\n",
    "    clf = joblib.load(PATH).best_estimator_\n",
    "else:\n",
    "    print('Training model.')\n",
    "\n",
    "    # instantiate a MLPClassifier (monitor training by verbose=1)\n",
    "    mlp = MLPClassifier(learning_rate=\"adaptive\",random_state=1)\n",
    "    # set parameters for grid search\n",
    "    params = {'parameter': 'parameter values'}\n",
    "    # instantiate a GridSearchCV\n",
    "    clf = GridSearchCV(cv=5,hidden_layer_sizes=[(256,), (512,), (128 ,256, 128,)],n_jobs= -1)\n",
    "\n",
    "    clf.fit(X_train, y_train)\n",
    "    print('Finished with grid search with best mean cross-validated score:', clf.best_score_)\n",
    "    print('Best params appeared to be', clf.best_params_)\n",
    "    joblib.dump(clf, PATH)\n",
    "    clf = clf.best_estimator_"
   ]
  },
  {
   "cell_type": "markdown",
   "metadata": {},
   "source": [
    "### Question\n",
    "Run the code (this may take a while when running it for the first time). What are the training and testing accuracy?\n",
    "*Hint: The current progress is printed on the Jupyter Notebook terminal.* "
   ]
  },
  {
   "cell_type": "code",
   "execution_count": null,
   "metadata": {},
   "outputs": [],
   "source": [
    "print(clf.score(X_train, y_train))\n",
    "print(clf.score(X_test, y_test))"
   ]
  },
  {
   "cell_type": "markdown",
   "metadata": {},
   "source": [
    "### Question\n",
    "We now want to compare an MLP without any hidden units with a single Perceptron. To do so, first train an MLP without an hidden layer by changing the given code.\n",
    "Copy your code to the quiz and check if it passes all tests."
   ]
  },
  {
   "cell_type": "code",
   "execution_count": null,
   "metadata": {},
   "outputs": [],
   "source": []
  }
 ],
 "metadata": {
  "anaconda-cloud": {},
  "kernelspec": {
   "display_name": "Python 3",
   "language": "python",
   "name": "python3"
  },
  "language_info": {
   "codemirror_mode": {
    "name": "ipython",
    "version": 3
   },
   "file_extension": ".py",
   "mimetype": "text/x-python",
   "name": "python",
   "nbconvert_exporter": "python",
   "pygments_lexer": "ipython3",
   "version": "3.8.3"
  },
  "varInspector": {
   "cols": {
    "lenName": 16,
    "lenType": 16,
    "lenVar": 40
   },
   "kernels_config": {
    "python": {
     "delete_cmd_postfix": "",
     "delete_cmd_prefix": "del ",
     "library": "var_list.py",
     "varRefreshCmd": "print(var_dic_list())"
    },
    "r": {
     "delete_cmd_postfix": ") ",
     "delete_cmd_prefix": "rm(",
     "library": "var_list.r",
     "varRefreshCmd": "cat(var_dic_list()) "
    }
   },
   "types_to_exclude": [
    "module",
    "function",
    "builtin_function_or_method",
    "instance",
    "_Feature"
   ],
   "window_display": false
  }
 },
 "nbformat": 4,
 "nbformat_minor": 1
}
