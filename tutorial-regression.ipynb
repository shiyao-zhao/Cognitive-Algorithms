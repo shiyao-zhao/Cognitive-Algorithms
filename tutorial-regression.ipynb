{
 "cells": [
  {
   "cell_type": "markdown",
   "metadata": {},
   "source": [
    "## Linear Regression using a practical Example\n",
    "\n",
    "We will use a insurance [dataset](https://www.kaggle.com/mirichoi0218/insurance) from kaggle.\n",
    "This will be not provided on ISIS. If you want to run the code on your own, please download it directly from kaggle.\n",
    "\n",
    "Note that you do not need to understand the code, even if it is mostly straight foreward. This is more about visualizing a data set, think about it and explore how we could/can apply our methods."
   ]
  },
  {
   "cell_type": "code",
   "execution_count": 1,
   "metadata": {},
   "outputs": [],
   "source": [
    "import numpy as np\n",
    "import pandas as pd\n",
    "import matplotlib.pyplot as plt\n",
    "\n",
    "from sklearn.linear_model import LinearRegression"
   ]
  },
  {
   "cell_type": "code",
   "execution_count": null,
   "metadata": {},
   "outputs": [],
   "source": [
    "%matplotlib inline\n",
    "plt.style.use('ggplot')"
   ]
  },
  {
   "cell_type": "code",
   "execution_count": null,
   "metadata": {},
   "outputs": [],
   "source": [
    "data = pd.read_csv('insurance.csv')\n",
    "data.head()"
   ]
  },
  {
   "cell_type": "code",
   "execution_count": null,
   "metadata": {},
   "outputs": [],
   "source": [
    "data.describe()"
   ]
  },
  {
   "cell_type": "markdown",
   "metadata": {},
   "source": [
    "What could we do with this data set?\n",
    "\n",
    "Different types of classes:\n",
    "* binary classes: sex, smoker\n",
    "* classes: sex, region\n",
    "* floating point features: bmi, charges\n",
    "* integer features: childs, age (at least represented as an integer)\n",
    "* ..."
   ]
  },
  {
   "cell_type": "code",
   "execution_count": null,
   "metadata": {},
   "outputs": [],
   "source": [
    "A = data.loc[data.smoker == 'yes', ['bmi', 'charges']]\n",
    "B = data.loc[data.smoker == 'no', ['bmi', 'charges']]\n",
    "\n",
    "plt.figure(figsize=(10,) * 2)\n",
    "plt.scatter(A.bmi, A.charges, s=25, alpha=.7, label='smoker')\n",
    "plt.scatter(B.bmi, B.charges, s=25, alpha=.7, label='non-smoker')\n",
    "plt.legend()\n",
    "plt.xlabel('BMI')\n",
    "plt.ylabel('charges')\n",
    "plt.show()"
   ]
  },
  {
   "cell_type": "markdown",
   "metadata": {},
   "source": [
    "* We could train a linear classifier on the data\n",
    "\\begin{align}\n",
    "    & f: \\mathbb{R}^d \\to \\mathcal{C} \\\\\n",
    "    & f: \\mathbb{R}^d \\to \\{\\text{smoker}, \\text{non-smoker}\\} \\\\\n",
    "    & f(\\mathcal{x}) = \\mathbf{w}^\\top\\mathbf{x}-\\beta \\geq 0\n",
    "\\end{align}\n",
    "\n",
    "* Which one might be suitable?\n",
    "    * NCC\n",
    "    * LDA\n",
    "    * Perceptron\n",
    "* Data is scattered, not gaussian and classes have no common covariance<br><br>\n",
    " \n",
    "* For smokers: linear dependency between BMI and charges<br><br>\n",
    "\n",
    "* What else could have a influence on the charge?"
   ]
  },
  {
   "cell_type": "code",
   "execution_count": null,
   "metadata": {},
   "outputs": [],
   "source": [
    "data.head()"
   ]
  },
  {
   "cell_type": "code",
   "execution_count": null,
   "metadata": {},
   "outputs": [],
   "source": [
    "A = data.loc[data.smoker == 'yes', ['age', 'charges']]\n",
    "B = data.loc[data.smoker == 'no', ['age', 'charges']]\n",
    "\n",
    "plt.figure(figsize=(10,) * 2)\n",
    "plt.scatter(A.age, A.charges, s=25, alpha=.7, label='smoker')\n",
    "plt.scatter(B.age, B.charges, s=25, alpha=.7, label='non-smoker')\n",
    "plt.legend()\n",
    "plt.xlabel('age')\n",
    "plt.ylabel('charges')\n",
    "plt.show()"
   ]
  },
  {
   "cell_type": "markdown",
   "metadata": {},
   "source": [
    "* Again, we could train a binary classifier<br><br>\n",
    "\n",
    "* **strong** linear dependency between age and charges<br><br>\n",
    "\n",
    "* how do we measure that? covariance (the magnitude does not tell a lot!)"
   ]
  },
  {
   "cell_type": "code",
   "execution_count": null,
   "metadata": {},
   "outputs": [],
   "source": [
    "Sx = np.cov(data.loc[:, ['age', 'charges']].T)\n",
    "print(\"Covariance\")\n",
    "print(Sx)\n",
    "print(\"Correlation between age and charges:\",\n",
    "      Sx[0, 1] / np.prod(np.sqrt(np.diag(Sx))))"
   ]
  },
  {
   "cell_type": "markdown",
   "metadata": {},
   "source": [
    "#### Can we predict the dependency between age and charges?\n",
    "\n",
    "Linear Regression\n",
    "\\begin{align}\n",
    "    & f: \\mathbb{R}^d \\to \\mathbb{R} \\\\\n",
    "    & f(\\mathcal{x}) = \\mathbf{w}^\\top\\mathbf{x}-\\beta\n",
    "\\end{align}"
   ]
  },
  {
   "cell_type": "code",
   "execution_count": null,
   "metadata": {},
   "outputs": [],
   "source": [
    "A = data.loc[data.smoker == 'yes', ['age', 'charges']]\n",
    "B = data.loc[data.smoker == 'no', ['age', 'charges']]\n",
    "\n",
    "\n",
    "regA = LinearRegression().fit(np.expand_dims(A.age, axis=1), A.charges)\n",
    "regB = LinearRegression().fit(np.expand_dims(B.age, axis=1), B.charges)\n",
    "\n",
    "x = np.linspace(A.age.min(), A.age.max(), 200)\n",
    "yA = regA.predict(np.expand_dims(x, axis=1))\n",
    "yB = regB.predict(np.expand_dims(x, axis=1))\n",
    "\n",
    "\n",
    "plt.figure(figsize=(10,) * 2)\n",
    "\n",
    "plt.plot(x, yA)\n",
    "plt.scatter(A.age, A.charges, s=25, alpha=.7, label='smoker')\n",
    "\n",
    "plt.plot(x, yB)\n",
    "plt.scatter(B.age, B.charges, s=25, alpha=.7, label='non-smoker')\n",
    "\n",
    "plt.legend()\n",
    "plt.xlabel('age')\n",
    "plt.ylabel('charges')\n",
    "plt.show()"
   ]
  },
  {
   "cell_type": "markdown",
   "metadata": {},
   "source": [
    "Does it make sense to predict the charge given the age by linear regression?\n",
    "\n",
    "* age is binned in integer values\n",
    "* when we want to approximate the average charges given an age, we could just take the average for the age.<br><br>\n",
    "\n",
    "* If we want to approximation e.g. the age $25.5$, regression is probably useful: it describes the linear dependency between age and charges"
   ]
  },
  {
   "cell_type": "code",
   "execution_count": null,
   "metadata": {},
   "outputs": [],
   "source": [
    "A = data.loc[data.smoker == 'yes', ['bmi', 'charges']]\n",
    "B = data.loc[data.smoker == 'no', ['bmi', 'charges']]\n",
    "\n",
    "\n",
    "regA = LinearRegression().fit(np.expand_dims(A.bmi, axis=1), A.charges)\n",
    "regB = LinearRegression().fit(np.expand_dims(B.bmi, axis=1), B.charges)\n",
    "\n",
    "x = np.linspace(A.bmi.min(), A.bmi.max(), 200)\n",
    "yA = regA.predict(np.expand_dims(x, axis=1))\n",
    "yB = regB.predict(np.expand_dims(x, axis=1))\n",
    "\n",
    "\n",
    "plt.figure(figsize=(10,) * 2)\n",
    "\n",
    "plt.plot(x, yA)\n",
    "plt.scatter(A.bmi, A.charges, s=25, alpha=.7, label='smoker')\n",
    "\n",
    "plt.plot(x, yB)\n",
    "plt.scatter(B.bmi, B.charges, s=25, alpha=.7, label='non-smoker')\n",
    "\n",
    "plt.legend()\n",
    "plt.xlabel('BMI')\n",
    "plt.ylabel('charges')\n",
    "plt.show()"
   ]
  },
  {
   "cell_type": "markdown",
   "metadata": {},
   "source": [
    "* here regression could be more useful\n",
    "* if we want to get approximate charges, we can use the regressed function<br><br>\n",
    "\n",
    "* taking a look at the non-smokers, we can see that there is also a small linear dependency\n",
    "* how do we check that? again, covariance!"
   ]
  },
  {
   "cell_type": "code",
   "execution_count": null,
   "metadata": {},
   "outputs": [],
   "source": [
    "Sx = np.cov(data.loc[data.smoker == 'no', ['bmi', 'charges']].T)\n",
    "print(\"Covariance\")\n",
    "print(Sx)\n",
    "print(\"Correlation between age and charges:\",\n",
    "      Sx[0, 1] / np.prod(np.sqrt(np.diag(Sx))))"
   ]
  },
  {
   "cell_type": "markdown",
   "metadata": {},
   "source": [
    "## Task 2 - Variance of OLS Estimation\n",
    "\n",
    "Here I creted the algorithm of the task sheet for some empirical experiments."
   ]
  },
  {
   "cell_type": "code",
   "execution_count": 2,
   "metadata": {},
   "outputs": [],
   "source": [
    "def Ex3Algorithm(w, n, vd, vn, trials):\n",
    "    # generate gaussian data samples\n",
    "    x = np.random.normal(0, vd, n)\n",
    "    # repeat them to add different noise values\n",
    "    X = np.repeat(x[None], trials, axis=0)\n",
    "    # generate noise for each sample in each trial\n",
    "    E = np.random.normal(0, vn, (trials, n))\n",
    "    # calculate y values and add the noise\n",
    "    Y = w * X + E\n",
    "    # calculate the approximative slope for each trial\n",
    "    Wapprox = np.sum(X * Y, axis=1) / np.sum(X * X, axis=1)\n",
    "    # return the variance of the approximative slopes\n",
    "    return np.var(Wapprox)\n",
    "\n",
    "def Ex3AlgorithmTester(w, n, vd, vn, trials=10**5, iterations=100):\n",
    "    \"\"\"\n",
    "    This runs the algorithm described in exercise sheet 03 task 2\n",
    "    Input:\n",
    "        w             true slope to calculate y = w * x\n",
    "        n             number of samples x\n",
    "        vd            variance used to drap the samples x\n",
    "        vn            variance of the noise added to y\n",
    "        trials        iterations of the algorithm (19**5 on the task sheet)\n",
    "        iterations    how often the algorithm is launched\n",
    "    Output:\n",
    "        mean of the variances returned by the algorithm\n",
    "    \"\"\"\n",
    "    variances = []\n",
    "    for i in range(iterations):\n",
    "        variances.append(Ex3Algorithm(w, n, vd, vn, trials))\n",
    "        if i % 10 == 0:\n",
    "            print(\"\\r({}/{})\".format(i, iterations), end='', flush=True)\n",
    "    \n",
    "    print(\"\\r\", end='', flush=True)\n",
    "    return np.mean(variances)"
   ]
  },
  {
   "cell_type": "markdown",
   "metadata": {},
   "source": [
    "The following cells might need some time.\n",
    "\n",
    "First, test for different values of the true slope $w$."
   ]
  },
  {
   "cell_type": "code",
   "execution_count": 3,
   "metadata": {},
   "outputs": [
    {
     "name": "stdout",
     "output_type": "stream",
     "text": [
      "w=1000; n=100; var data=0.5; var noise=1.0\n",
      "0.042108\n",
      "0.041271\n",
      "0.040384\n",
      "0.041174\n"
     ]
    }
   ],
   "source": [
    "print(\"w=1000; n=100; var data=0.5; var noise=1.0\")\n",
    "print(\"{:.6f}\".format(Ex3AlgorithmTester(1000, 100, 0.5, 1.0)))\n",
    "print(\"{:.6f}\".format(Ex3AlgorithmTester(1000, 100, 0.5, 1.0)))\n",
    "print(\"{:.6f}\".format(Ex3AlgorithmTester(1000, 100, 0.5, 1.0)))\n",
    "print(\"{:.6f}\".format(Ex3AlgorithmTester(1000, 100, 0.5, 1.0)))"
   ]
  },
  {
   "cell_type": "code",
   "execution_count": 8,
   "metadata": {},
   "outputs": [
    {
     "name": "stdout",
     "output_type": "stream",
     "text": [
      "w=1; n=100; var data=0.5; var noise=1.0\n",
      "0.042360\n",
      "0.040862\n",
      "0.040993\n",
      "0.039833\n"
     ]
    }
   ],
   "source": [
    "print(\"w=1; n=100; var data=0.5; var noise=1.0\")\n",
    "print(\"{:.6f}\".format(Ex3AlgorithmTester(1, 100, 0.5, 1.0)))\n",
    "print(\"{:.6f}\".format(Ex3AlgorithmTester(1, 100, 0.5, 1.0)))\n",
    "print(\"{:.6f}\".format(Ex3AlgorithmTester(1, 100, 0.5, 1.0)))\n",
    "print(\"{:.6f}\".format(Ex3AlgorithmTester(1, 100, 0.5, 1.0)))"
   ]
  },
  {
   "cell_type": "code",
   "execution_count": 4,
   "metadata": {},
   "outputs": [
    {
     "name": "stdout",
     "output_type": "stream",
     "text": [
      "w=0.001; n=100; var data=0.5; var noise=1.0\n",
      "0.041296\n",
      "0.040272\n",
      "0.041118\n",
      "0.041794\n"
     ]
    }
   ],
   "source": [
    "print(\"w=0.001; n=100; var data=0.5; var noise=1.0\")\n",
    "print(\"{:.6f}\".format(Ex3AlgorithmTester(0.001, 100, 0.5, 1.0)))\n",
    "print(\"{:.6f}\".format(Ex3AlgorithmTester(0.001, 100, 0.5, 1.0)))\n",
    "print(\"{:.6f}\".format(Ex3AlgorithmTester(0.001, 100, 0.5, 1.0)))\n",
    "print(\"{:.6f}\".format(Ex3AlgorithmTester(0.001, 100, 0.5, 1.0)))"
   ]
  },
  {
   "cell_type": "markdown",
   "metadata": {},
   "source": [
    "There seem to be no significant difference.\n",
    "\n",
    "---\n",
    "\n",
    "Now alternate the number of samples $n$."
   ]
  },
  {
   "cell_type": "code",
   "execution_count": 5,
   "metadata": {},
   "outputs": [
    {
     "name": "stdout",
     "output_type": "stream",
     "text": [
      "w=0.001; n=200; var data=0.5; var noise=1.0\n",
      "0.020560\n",
      "0.020212\n",
      "0.020028\n",
      "0.019886\n"
     ]
    }
   ],
   "source": [
    "print(\"w=0.001; n=200; var data=0.5; var noise=1.0\")\n",
    "print(\"{:.6f}\".format(Ex3AlgorithmTester(0.001, 200, 0.5, 1.0)))\n",
    "print(\"{:.6f}\".format(Ex3AlgorithmTester(0.001, 200, 0.5, 1.0)))\n",
    "print(\"{:.6f}\".format(Ex3AlgorithmTester(0.001, 200, 0.5, 1.0)))\n",
    "print(\"{:.6f}\".format(Ex3AlgorithmTester(0.001, 200, 0.5, 1.0)))"
   ]
  },
  {
   "cell_type": "markdown",
   "metadata": {},
   "source": [
    "There is a noticable difference!\n",
    "\n",
    "---\n",
    "\n",
    "Now alternate the data variance $\\sigma^2_x$."
   ]
  },
  {
   "cell_type": "code",
   "execution_count": 6,
   "metadata": {},
   "outputs": [
    {
     "name": "stdout",
     "output_type": "stream",
     "text": [
      "w=0.001; n=200; var data=2.0; var noise=1.0\n",
      "0.001253\n",
      "0.001278\n",
      "0.001261\n",
      "0.001274\n"
     ]
    }
   ],
   "source": [
    "print(\"w=0.001; n=200; var data=2.0; var noise=1.0\")\n",
    "print(\"{:.6f}\".format(Ex3AlgorithmTester(0.001, 200, 2.0, 1.0)))\n",
    "print(\"{:.6f}\".format(Ex3AlgorithmTester(0.001, 200, 2.0, 1.0)))\n",
    "print(\"{:.6f}\".format(Ex3AlgorithmTester(0.001, 200, 2.0, 1.0)))\n",
    "print(\"{:.6f}\".format(Ex3AlgorithmTester(0.001, 200, 2.0, 1.0)))"
   ]
  },
  {
   "cell_type": "markdown",
   "metadata": {},
   "source": [
    "There is a noticable difference!\n",
    "\n",
    "---\n",
    "\n",
    "Now alternate again the true slope $w$."
   ]
  },
  {
   "cell_type": "code",
   "execution_count": 7,
   "metadata": {},
   "outputs": [
    {
     "name": "stdout",
     "output_type": "stream",
     "text": [
      "w=1000; n=200; var data=2.0; var noise=1.0\n",
      "0.001255\n",
      "0.001255\n",
      "0.001239\n",
      "0.001264\n"
     ]
    }
   ],
   "source": [
    "print(\"w=1000; n=200; var data=2.0; var noise=1.0\")\n",
    "print(\"{:.6f}\".format(Ex3AlgorithmTester(1000, 200, 2.0, 1.0)))\n",
    "print(\"{:.6f}\".format(Ex3AlgorithmTester(1000, 200, 2.0, 1.0)))\n",
    "print(\"{:.6f}\".format(Ex3AlgorithmTester(1000, 200, 2.0, 1.0)))\n",
    "print(\"{:.6f}\".format(Ex3AlgorithmTester(1000, 200, 2.0, 1.0)))"
   ]
  },
  {
   "cell_type": "markdown",
   "metadata": {},
   "source": [
    "There seem to be no significant difference.\n",
    "\n",
    "---\n",
    "\n",
    "Now alternate the noise variance $\\sigma^2_\\epsilon$."
   ]
  },
  {
   "cell_type": "code",
   "execution_count": 9,
   "metadata": {},
   "outputs": [
    {
     "name": "stdout",
     "output_type": "stream",
     "text": [
      "w=1000; n=200; var data=2.0; var noise=0.5\n",
      "0.000317\n",
      "0.000318\n",
      "0.000308\n",
      "0.000315\n"
     ]
    }
   ],
   "source": [
    "print(\"w=1000; n=200; var data=2.0; var noise=0.5\")\n",
    "print(\"{:.6f}\".format(Ex3AlgorithmTester(1000, 200, 2.0, 0.5)))\n",
    "print(\"{:.6f}\".format(Ex3AlgorithmTester(1000, 200, 2.0, 0.5)))\n",
    "print(\"{:.6f}\".format(Ex3AlgorithmTester(1000, 200, 2.0, 0.5)))\n",
    "print(\"{:.6f}\".format(Ex3AlgorithmTester(1000, 200, 2.0, 0.5)))"
   ]
  },
  {
   "cell_type": "markdown",
   "metadata": {},
   "source": [
    "There is a noticable difference!"
   ]
  },
  {
   "cell_type": "code",
   "execution_count": null,
   "metadata": {},
   "outputs": [],
   "source": []
  }
 ],
 "metadata": {
  "kernelspec": {
   "display_name": "Python 3",
   "language": "python",
   "name": "python3"
  },
  "language_info": {
   "codemirror_mode": {
    "name": "ipython",
    "version": 3
   },
   "file_extension": ".py",
   "mimetype": "text/x-python",
   "name": "python",
   "nbconvert_exporter": "python",
   "pygments_lexer": "ipython3",
   "version": "3.8.3"
  }
 },
 "nbformat": 4,
 "nbformat_minor": 4
}
