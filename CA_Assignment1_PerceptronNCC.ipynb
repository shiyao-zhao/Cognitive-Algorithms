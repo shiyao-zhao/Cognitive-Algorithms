{
 "cells": [
  {
   "cell_type": "markdown",
   "metadata": {
    "colab_type": "text",
    "id": "W3_FuJKT1Scf"
   },
   "source": [
    "# Cognitive Algorithms - Assignment 1\n",
    "Cognitive Algorithms        \n",
    "Winter Term 2019/2020      \n",
    "Technische Universität Berlin     \n",
    "Fachgebiet Maschinelles Lernen \n",
    "\n",
    "**Answer the questions on ISIS in 'Assignment 1 - Quiz' and copy code from this notebook where necessary.**\n",
    "                                  \n",
    "           "
   ]
  },
  {
   "cell_type": "markdown",
   "metadata": {
    "colab_type": "text",
    "id": "Y53LdofC1Scg"
   },
   "source": [
    "# Programming\n",
    "---\n",
    "**Please note that Python is in general slow with loops. Therefore, we will deduct points for the use of unnecessary loops throughout this course.**\n",
    "\n",
    "---\n",
    "The linear perceptron and the NCC are linear classification methods. Given training data\n",
    "$$(\\mathbf{x_1}, y_1),\\ldots, ( \\mathbf{x_n}, y_n ) \\in \\mathbb{R}^d \\times \\{-1,1\\}$$\n",
    "their goal is to learn a weight vector $\\mathbf{w}$ and a bias term $b$, such that each new data point $\\mathbf{x} \\in \\mathbb{R}^d$ will be assigned the correct class label via the following function:\n",
    "$$\\mathbf x \\mapsto  \\mbox{sign}(\\mathbf w^T \\cdot \\mathbf x - b)$$\n",
    "\n",
    "\n",
    "The two methods use different strategies to achieve this goal.\n",
    "You will programm and compare the perceptron and the prototype classifier and use them to predict handwritten digits. The task is to **classify one digit against all others**.         \n",
    "If not done yet, download the data set ```usps.mat``` from the ISIS web site. The data set ```usps.mat``` contains handwritten digits from the U.S. Postal Service data set. The data set contains 2007 images and each image consits of 256 pixels.           \n",
    "Below you can find some useful functions for loading the data and plotting images. "
   ]
  },
  {
   "cell_type": "code",
   "execution_count": 123,
   "metadata": {
    "colab": {},
    "colab_type": "code",
    "id": "eZgN99fS1Sch"
   },
   "outputs": [],
   "source": [
    "import numpy as np\n",
    "import scipy.io as io\n",
    "import pylab as pl\n",
    "import seaborn as sns\n",
    "import subprocess as sp\n",
    "%matplotlib inline"
   ]
  },
  {
   "cell_type": "code",
   "execution_count": 124,
   "metadata": {
    "colab": {},
    "colab_type": "code",
    "id": "SvZseK6X1Sck"
   },
   "outputs": [],
   "source": [
    "''' ---- Functions for loading and plotting the images ---- '''\n",
    "def load_usps_data(fname, digit=3):\n",
    "    ''' Loads USPS (United State Postal Service) data from <fname> \n",
    "    Definition:  X, Y = load_usps_data(fname, digit = 3)\n",
    "    Input:       fname   - string\n",
    "                 digit   - optional, integer between 0 and 9, default is 3\n",
    "    Output:      X       -  DxN array with N images with D pixels\n",
    "                 Y       -  1D array of length N of class labels\n",
    "                                 1 - where picture contains the <digit>\n",
    "                                -1 - otherwise                           \n",
    "    '''\n",
    "    # load the data\n",
    "    data = io.loadmat(fname)\n",
    "    # extract images and labels\n",
    "    X = data['data_patterns']\n",
    "    Y = data['data_labels']\n",
    "    Y = Y[digit,:]\n",
    "    return X, Y\n",
    "\n",
    "def plot_img(a):\n",
    "    ''' Plots one image \n",
    "    Definition: plot_img(a) \n",
    "    Input:      a - 1D array that contains an image \n",
    "    '''   \n",
    "    a2 = np.reshape(a,(int(np.sqrt(a.shape[0])), int(np.sqrt(a.shape[0]))))\n",
    "    pl.imshow(a2, cmap='gray') \n",
    "    pl.colorbar()\n",
    "    pl.setp(pl.gca(), xticks=[], yticks=[])\n",
    "            \n",
    "def plot_imgs(X, Y):   \n",
    "    ''' Plots 3 images from each of the two classes \n",
    "    Definition:         plot_imgs(X,Y)\n",
    "    Input:       X       -  DxN array of N pictures with D pixel\n",
    "                 Y       -  1D array of length N of class labels {1, -1}                  \n",
    "    '''\n",
    "    pl.figure()\n",
    "    for i in np.arange(3):\n",
    "        classpos = (Y == 1).nonzero()[0]\n",
    "        m = classpos[np.random.random_integers(0, classpos.shape[0]-1)]\n",
    "        pl.subplot(2,3,1+i)\n",
    "        plot_img(X[:, m])\n",
    "    for i in np.arange(3):\n",
    "        classneg = (Y != 1).nonzero()[0]\n",
    "        m = classneg[np.random.random_integers(0, classneg.shape[0]-1)]\n",
    "        pl.subplot(2,3,4+i)\n",
    "        plot_img(X[:, m])"
   ]
  },
  {
   "cell_type": "markdown",
   "metadata": {
    "colab_type": "text",
    "id": "AZbXneEH1Scn"
   },
   "source": [
    "Implement a linear perceptron by completing the function stub  ```train_perceptron```. We will test three different types of update rules for the learning rate (```option``` $\\in \\{0,1,2\\}$).\n",
    "$$\\text{learning rate}(t) = \\begin{cases} \\frac{\\eta}{1+t} & \\text{if} \\;\\; \\text{option} = 0  \\\\ \\eta & \\text{if} \\;\\; \\text{option} = 1 \\\\ \\eta \\cdot (1+t) & \\text{if} \\;\\; \\text{option} = 2 \\end{cases}$$\n",
    "where $t$ is the current iteration and $\\eta$ the initial value of the learning rate.           "
   ]
  },
  {
   "cell_type": "code",
   "execution_count": 125,
   "metadata": {
    "colab": {},
    "colab_type": "code",
    "id": "pOuVN_af1Scn"
   },
   "outputs": [],
   "source": [
    "def train_perceptron(X,Y,iterations=200,eta=.1, option=0):\n",
    "    ''' Trains a linear perceptron\n",
    "    Definition:  w, b, acc  = train_perceptron(X,Y,iterations=200,eta=.1)\n",
    "    Input:       X       -  DxN array of N data points with D features\n",
    "                 Y       -  1D array of length N of class labels {-1, 1}\n",
    "                 iter    -  optional, number of iterations, default 200\n",
    "                 eta     -  optional, learning rate, default 0.1\n",
    "                 option  -  optional, defines how eta is updated in each iteration\n",
    "    Output:      w       -  1D array of length D, weight vector \n",
    "                 b       -  bias term for linear classification                          \n",
    "                 acc     -  1D array of length iter, contains classification accuracies \n",
    "                            after each iteration  \n",
    "                            Accuracy = #correctly classified points / N \n",
    "    '''\n",
    "    assert option == 0 or option == 1 or option == 2\n",
    "    np.random.seed(1) # do not change\n",
    "    acc = np.zeros((iterations))\n",
    "    #include the bias term by adding a row of ones to X \n",
    "    X = np.concatenate((np.ones((1,X.shape[1])), X))\n",
    "    #initialize weight vector\n",
    "    weights = np.ones((X.shape[0]))/X.shape[0]\n",
    "    for it in np.arange(iterations):\n",
    "        # indices of misclassified data\n",
    "        wrong = (np.sign(weights.dot(X)) != Y).nonzero()[0]\n",
    "        \n",
    "        # compute accuracy acc[it] (1 point)\n",
    "        #your code here\n",
    "        #acc[it]=(it-wrong.shape[0])/X.shape[1]\n",
    "        acc[it]=(X.shape[1]-wrong.shape[0])/X.shape[1]\n",
    "        \n",
    "        if wrong.shape[0] > 0:\n",
    "            # pick a random misclassified data point (2 points)\n",
    "            s=wrong[np.random.randint(0,wrong.shape[0])]\n",
    "            \n",
    "            x_m=X[:,s]\n",
    "           \n",
    "            y_m=Y[s]\n",
    "            \n",
    "            #update weight vector (using different learning rates ) (each 1 point)\n",
    "            if option == 0:\n",
    "                eta1=eta/(1+it)\n",
    "                weights=weights+eta1*np.dot(x_m,y_m)\n",
    "            elif option == 1:\n",
    "                weights=weights+eta*np.dot(x_m,y_m)\n",
    "            elif option == 2:\n",
    "                eta2=eta*(1+it)\n",
    "                weights=weights+eta2*np.dot(x_m,y_m)\n",
    "   \n",
    "    b = -weights[0] \n",
    "    w = weights[1:]\n",
    "    #return weight vector, bias and accuracies\n",
    "    return w,b,acc\n",
    "\n",
    "''' --------------------------------------------------------------------------------- '''\n",
    "def analyse_accuracies_perceptron(digit = 3, option=0):\n",
    "    ''' Loads usps.mat data and plots digit recognition accuracy in the linear perceptron\n",
    "    Definition: analyse_perceptron(digit = 3)\n",
    "    '''\n",
    "    X,Y = load_usps_data('usps.mat',digit)\n",
    "    w_per,b_per,acc = train_perceptron(X,Y, option=option)\n",
    "    \n",
    "    pl.figure()\n",
    "    pl.plot(np.arange(len(acc)),acc)\n",
    "    pl.title('Digit recognition accuracy')      \n",
    "    pl.xlabel('Iterations')\n",
    "    pl.ylabel('Accuracy')"
   ]
  },
  {
   "cell_type": "markdown",
   "metadata": {
    "colab_type": "text",
    "id": "RaMy5emu1Scq"
   },
   "source": [
    "Implement a Prototype/Nearest Centroid Classifier by completing the function stub ```train_ncc```. Note that points will be deducted for the use of loops. "
   ]
  },
  {
   "cell_type": "code",
   "execution_count": 126,
   "metadata": {
    "colab": {},
    "colab_type": "code",
    "id": "groQEFKc1Scs"
   },
   "outputs": [],
   "source": [
    "def train_ncc(X,Y):\n",
    "    ''' Trains a prototype/nearest centroid classifier\n",
    "    Definition:  w, b   = train_ncc(X,Y)\n",
    "    Input:       X       -  DxN array of N data points with D features\n",
    "                 Y       -  1D array of length N of class labels {-1, 1}\n",
    "    Output:      w       -  1D array of length D, weight vector  \n",
    "                 b       -  bias term for linear classification                          \n",
    "    '''\n",
    "    # ... your code here \n",
    "\n",
    "    m=X[:,np.where(Y==1)]\n",
    "    n=X[:,np.where(Y==-1)]\n",
    "    m=np.squeeze(m)\n",
    "    n=np.squeeze(n)\n",
    "                \n",
    "    w_m=np.sum(m,axis=1)/m.shape[1]\n",
    "    w_n=np.sum(n,axis=1)/n.shape[1]\n",
    "    \n",
    "   \n",
    "    w=w_m-w_n\n",
    "    b=0.5*(np.dot(w_m.T,w_m)-np.dot(w_n.T,w_n))\n",
    "    \n",
    "    return w,b\n",
    "    \n",
    "    "
   ]
  },
  {
   "cell_type": "code",
   "execution_count": 127,
   "metadata": {
    "colab": {},
    "colab_type": "code",
    "id": "yy75CF631Scv"
   },
   "outputs": [],
   "source": [
    "def plot_histogram(X, Y, w, b):\n",
    "    ''' Plots the histogram of classifier outputs (w^T X - b) for target (the digit) and non-target (all other digits)\n",
    "    The title of the plot is the accuracy of the classification\n",
    "    \n",
    "    Definition:     plot_accuracies(X, Y, w, b)\n",
    "    Input:          X       -  DxN array of N data points with D features\n",
    "                    Y       -  1D array of length N of class labels\n",
    "                    w       -  1D array of length D, weight vector \n",
    "                    b       -  bias term for linear classification   \n",
    "    '''\n",
    "    ax = sns.distplot(w.dot(X[:,Y<0])-b, label=\"non-target\", norm_hist=False, kde=False)\n",
    "    ax = sns.distplot(w.dot(X[:,Y>0])-b, color=\"r\", label=\"target\", norm_hist=False, kde=False)\n",
    "    pl.legend()\n",
    "    pl.title(\"Acc %.2f %%\" % (100*np.sum(np.sign(w.dot(X)-b)==Y)/X.shape[1]))\n",
    "\n",
    "def plot_density(X, Y, w, b):\n",
    "    ''' Plots the kernel density estimate of classifier outputs (w^T X - b) for target (the digit) and non-target (all other digits)\n",
    "    \n",
    "    Definition:     plot_accuracies(X, Y, w, b)\n",
    "    Input:          X       -  DxN array of N data points with D features\n",
    "                    Y       -  1D array of length N of class labels\n",
    "                    w       -  1D array of length D, weight vector \n",
    "                    b       -  bias term for linear classification   \n",
    "    '''\n",
    "    ax = sns.kdeplot(w.dot(X[:,Y<0])-b, label=\"non-target\")\n",
    "    ax = sns.kdeplot(w.dot(X[:,Y>0])-b, color=\"r\", label=\"target\")\n",
    "    pl.legend()\n",
    "\n",
    "def compare_classifiers(digit = 3):\n",
    "    ''' Loads usps.mat data, trains the perceptron and the Nearest centroid classifiers, \n",
    "    and plots their weight vector and classifier output\n",
    "    Definition: compare_classifiers(digit = 3)\n",
    "    '''\n",
    "    X,Y = load_usps_data('usps.mat',digit)\n",
    "    w_ncc,b_ncc = train_ncc(X,Y)\n",
    "    w_per,b_per,_ = train_perceptron(X,Y)\n",
    "    \n",
    "    pl.figure(figsize=(12,8))\n",
    "    pl.subplot(3,2,1)\n",
    "    plot_img(w_ncc)\n",
    "    pl.title('NCC')\n",
    "    pl.subplot(3,2,3)\n",
    "    plot_histogram(X, Y, w_ncc, b_ncc)\n",
    "    pl.subplot(3,2,5)\n",
    "    plot_density(X, Y, w_ncc, b_ncc)\n",
    "    \n",
    "    pl.subplot(3,2,2)\n",
    "    plot_img(w_per)\n",
    "    pl.title('Perceptron')\n",
    "    pl.subplot(3,2,4)\n",
    "    plot_histogram(X, Y, w_per, b_per)\n",
    "    pl.subplot(3,2,6)\n",
    "    plot_density(X, Y, w_per, b_per)"
   ]
  },
  {
   "cell_type": "code",
   "execution_count": 128,
   "metadata": {
    "colab": {},
    "colab_type": "code",
    "id": "8lBp2yKd1Scx",
    "scrolled": true
   },
   "outputs": [
    {
     "data": {
      "image/png": "[encoded data removed]",
      "text/plain": [
       "<Figure size 864x576 with 8 Axes>"
      ]
     },
     "metadata": {
      "needs_background": "light"
     },
     "output_type": "display_data"
    }
   ],
   "source": [
    "# Call compare_classifiers to compare the performance for different digits\n",
    "# ... your code here \n",
    "compare_classifiers(digit=3)\n"
   ]
  }
 ],
 "metadata": {
  "anaconda-cloud": {},
  "colab": {
   "collapsed_sections": [],
   "name": "CA_Assignment1_PerceptronNCC (1).ipynb",
   "provenance": []
  },
  "kernelspec": {
   "display_name": "Python 3",
   "language": "python",
   "name": "python3"
  },
  "language_info": {
   "codemirror_mode": {
    "name": "ipython",
    "version": 3
   },
   "file_extension": ".py",
   "mimetype": "text/x-python",
   "name": "python",
   "nbconvert_exporter": "python",
   "pygments_lexer": "ipython3",
   "version": "3.7.3"
  }
 },
 "nbformat": 4,
 "nbformat_minor": 1
}
